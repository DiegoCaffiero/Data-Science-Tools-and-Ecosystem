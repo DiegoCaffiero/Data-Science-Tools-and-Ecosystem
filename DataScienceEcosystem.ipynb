{
 "cells": [
  {
   "cell_type": "markdown",
   "id": "393a2d17-76d4-4447-93e1-313a7ee94228",
   "metadata": {},
   "source": [
    "# Data Science Tools and Ecosystem"
   ]
  },
  {
   "cell_type": "markdown",
   "id": "c552726c-7fbc-4a6d-91b3-8ad38e7a1b30",
   "metadata": {
    "tags": []
   },
   "source": [
    "# In this notebook, Data Science Tools and Ecosystem are summarized."
   ]
  },
  {
   "cell_type": "markdown",
   "id": "dfc2dc90-9d0c-4ec0-9af6-bf10ff23d939",
   "metadata": {},
   "source": [
    "## **Objectives:**\n",
    "+ List of popular languages for Data Science\n",
    "+ List of commonly used libraries for Data Science\n",
    "+ List of tools for Data Science\n"
   ]
  },
  {
   "cell_type": "markdown",
   "id": "bbef4af8-2615-46d3-b8f4-177dc6aa3d4d",
   "metadata": {
    "tags": []
   },
   "source": [
    "# Some of the popular languages that Data Scientists use are:\n",
    "1. Python\n",
    "2. SQL\n",
    "3. R\n",
    "4. Java\n",
    "5. Scala\n",
    "6. C++\n",
    "7. Go\n",
    "8. NoSQL\n",
    "9. MATLAB\n",
    "10. JavaScript"
   ]
  },
  {
   "cell_type": "markdown",
   "id": "fe9ea92c-7931-4430-b7eb-48645b4b40cb",
   "metadata": {},
   "source": [
    "# Some of the commonly used libraries used by Data Scientists include:\n",
    "1. Spark\n",
    "2. TensorFlow\n",
    "3. PyTorch\n",
    "4. Hadoop\n",
    "5. Pandas\n",
    "6. Scikit-learn\n",
    "7. Numpy\n",
    "8. Keras\n",
    "9. PySpark\n",
    "10. Matplotlib"
   ]
  },
  {
   "cell_type": "markdown",
   "id": "bc93255e-7542-4f3d-9e5c-986f3c1d5c22",
   "metadata": {},
   "source": [
    "| Data Science Tools |\n",
    "| ------------------ |\n",
    "| Jupyter Notebook |\n",
    "| Tableau |\n",
    "| Excel |\n",
    "| Power BI |\n",
    "| SAS |\n"
   ]
  },
  {
   "cell_type": "markdown",
   "id": "c7b9660c-5c2d-44fa-8ca9-738df894cdae",
   "metadata": {},
   "source": [
    "### Below are a few examples of evaluating arithmetic expressions in Python."
   ]
  },
  {
   "cell_type": "code",
   "execution_count": 1,
   "id": "5003861e-ed5e-4aec-9f2d-ad8b80e86051",
   "metadata": {
    "tags": []
   },
   "outputs": [
    {
     "data": {
      "text/plain": [
       "17"
      ]
     },
     "execution_count": 1,
     "metadata": {},
     "output_type": "execute_result"
    }
   ],
   "source": [
    "# This is a simple arithmetic expression to multiply then add integers.\n",
    "(3*4)+5"
   ]
  },
  {
   "cell_type": "code",
   "execution_count": 2,
   "id": "4b8053c2-cea3-4f51-a4c0-d60faf391d0a",
   "metadata": {
    "tags": []
   },
   "outputs": [
    {
     "data": {
      "text/plain": [
       "3.3333333333333335"
      ]
     },
     "execution_count": 2,
     "metadata": {},
     "output_type": "execute_result"
    }
   ],
   "source": [
    "# This will convert 200 minutes to hours by diving by 60.\n",
    "200/60"
   ]
  },
  {
   "cell_type": "markdown",
   "id": "e9064a21-2d19-41f3-8658-acd03ac31a55",
   "metadata": {},
   "source": [
    "## Author\n",
    "Diego Caffiero"
   ]
  }
 ],
 "metadata": {
  "kernelspec": {
   "display_name": "Python 3 (ipykernel)",
   "language": "python",
   "name": "python3"
  },
  "language_info": {
   "codemirror_mode": {
    "name": "ipython",
    "version": 3
   },
   "file_extension": ".py",
   "mimetype": "text/x-python",
   "name": "python",
   "nbconvert_exporter": "python",
   "pygments_lexer": "ipython3",
   "version": "3.11.5"
  }
 },
 "nbformat": 4,
 "nbformat_minor": 5
}
